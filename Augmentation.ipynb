{
 "cells": [
  {
   "cell_type": "markdown",
   "id": "c1972a96",
   "metadata": {},
   "source": [
    "# 데이터 증강 코드\n",
    "#### 이미지 데이터가 부족하기 때문에 데이터에 왜곡 및 노이즈를 통해 데이터를 증가시킵니다.\n",
    "#### Python library인  Augmentor를 활용해 이미지를 생성합니다.\n",
    "#### 주의 ) 이미지를 생성하기 위에 하드웨워 점유 및 연산작업이 많기 때문에 하나씩 실행 합니다."
   ]
  },
  {
   "cell_type": "code",
   "execution_count": null,
   "id": "7bab3acf",
   "metadata": {},
   "outputs": [],
   "source": [
    "import Augmentor"
   ]
  },
  {
   "cell_type": "markdown",
   "id": "e3cd01cc",
   "metadata": {},
   "source": [
    "## 1번 데이터 증강"
   ]
  },
  {
   "cell_type": "code",
   "execution_count": null,
   "id": "c4c23e1c",
   "metadata": {},
   "outputs": [],
   "source": [
    "p = Augmentor.Pipeline(\"train/1/\")"
   ]
  },
  {
   "cell_type": "code",
   "execution_count": null,
   "id": "5eb9dc04",
   "metadata": {},
   "outputs": [],
   "source": [
    "p.rotate(probability=0.25, max_left_rotation=25, max_right_rotation=25)\n",
    "p.rotate90(probability=0.25)\n",
    "p.rotate180(probability=0.25)\n",
    "p.rotate270(probability=0.25)\n",
    "p.flip_left_right(probability=0.5)\n",
    "p.flip_top_bottom(probability=0.5)\n",
    "p.random_distortion(probability=0.5, grid_width=10, grid_height=10, magnitude=8)\n",
    "p.random_brightness(probability=0.5, min_factor=0.7, max_factor=0.9)\n",
    "p.random_contrast(probability=0.5, min_factor=0.5, max_factor=0.9)\n",
    "p.skew(probability=0.5, magnitude=0.5)\n",
    "p.skew_corner(probability=0.5,  magnitude=0.5)\n",
    "p.sample(9700)"
   ]
  },
  {
   "cell_type": "markdown",
   "id": "d027c6bb",
   "metadata": {},
   "source": [
    "## 2번 데이터 증강"
   ]
  },
  {
   "cell_type": "code",
   "execution_count": null,
   "id": "9b2e3b97",
   "metadata": {},
   "outputs": [],
   "source": [
    "p = Augmentor.Pipeline(\"train/2/\")"
   ]
  },
  {
   "cell_type": "code",
   "execution_count": null,
   "id": "31672950",
   "metadata": {},
   "outputs": [],
   "source": [
    "p.rotate(probability=0.25, max_left_rotation=25, max_right_rotation=25)\n",
    "p.rotate90(probability=0.25)\n",
    "p.rotate180(probability=0.25)\n",
    "p.rotate270(probability=0.25)\n",
    "p.flip_left_right(probability=0.5)\n",
    "p.flip_top_bottom(probability=0.5)\n",
    "p.random_distortion(probability=0.5, grid_width=10, grid_height=10, magnitude=8)\n",
    "p.random_brightness(probability=0.5, min_factor=0.7, max_factor=0.9)\n",
    "p.random_contrast(probability=0.5, min_factor=0.5, max_factor=0.9)\n",
    "p.skew(probability=0.5, magnitude=0.5)\n",
    "p.skew_corner(probability=0.5,  magnitude=0.5)\n",
    "p.sample(9700)"
   ]
  },
  {
   "cell_type": "markdown",
   "id": "65098424",
   "metadata": {},
   "source": [
    "## 3번 데이터 증강"
   ]
  },
  {
   "cell_type": "code",
   "execution_count": null,
   "id": "d89a3188",
   "metadata": {},
   "outputs": [],
   "source": [
    "p = Augmentor.Pipeline(\"train/3/\")"
   ]
  },
  {
   "cell_type": "code",
   "execution_count": null,
   "id": "3e8ac12a",
   "metadata": {},
   "outputs": [],
   "source": [
    "p.rotate(probability=0.25, max_left_rotation=25, max_right_rotation=25)\n",
    "p.rotate90(probability=0.25)\n",
    "p.rotate180(probability=0.25)\n",
    "p.rotate270(probability=0.25)\n",
    "p.flip_left_right(probability=0.5)\n",
    "p.flip_top_bottom(probability=0.5)\n",
    "p.random_distortion(probability=0.5, grid_width=10, grid_height=10, magnitude=8)\n",
    "p.random_brightness(probability=0.5, min_factor=0.7, max_factor=0.9)\n",
    "p.random_contrast(probability=0.5, min_factor=0.5, max_factor=0.9)\n",
    "p.skew(probability=0.5, magnitude=0.5)\n",
    "p.skew_corner(probability=0.5,  magnitude=0.5)\n",
    "p.sample(9700)"
   ]
  },
  {
   "cell_type": "markdown",
   "id": "27236f6e",
   "metadata": {},
   "source": [
    "## 4번 데이터 증강"
   ]
  },
  {
   "cell_type": "code",
   "execution_count": null,
   "id": "f158a78d",
   "metadata": {},
   "outputs": [],
   "source": [
    "p = Augmentor.Pipeline(\"train/4/\")"
   ]
  },
  {
   "cell_type": "code",
   "execution_count": null,
   "id": "df25e4fa",
   "metadata": {},
   "outputs": [],
   "source": [
    "p.rotate(probability=0.25, max_left_rotation=25, max_right_rotation=25)\n",
    "p.rotate90(probability=0.25)\n",
    "p.rotate180(probability=0.25)\n",
    "p.rotate270(probability=0.25)\n",
    "p.flip_left_right(probability=0.5)\n",
    "p.flip_top_bottom(probability=0.5)\n",
    "p.random_distortion(probability=0.5, grid_width=10, grid_height=10, magnitude=8)\n",
    "p.random_brightness(probability=0.5, min_factor=0.7, max_factor=0.9)\n",
    "p.random_contrast(probability=0.5, min_factor=0.5, max_factor=0.9)\n",
    "p.skew(probability=0.5, magnitude=0.5)\n",
    "p.skew_corner(probability=0.5,  magnitude=0.5)\n",
    "p.sample(9700)"
   ]
  },
  {
   "cell_type": "markdown",
   "id": "7cc33b15",
   "metadata": {},
   "source": [
    "## 5번 데이터 증강"
   ]
  },
  {
   "cell_type": "code",
   "execution_count": null,
   "id": "1e08b873",
   "metadata": {},
   "outputs": [],
   "source": [
    "p = Augmentor.Pipeline(\"train/5/\")"
   ]
  },
  {
   "cell_type": "code",
   "execution_count": null,
   "id": "8abc5d7b",
   "metadata": {},
   "outputs": [],
   "source": [
    "p.rotate(probability=0.25, max_left_rotation=25, max_right_rotation=25)\n",
    "p.rotate90(probability=0.25)\n",
    "p.rotate180(probability=0.25)\n",
    "p.rotate270(probability=0.25)\n",
    "p.flip_left_right(probability=0.5)\n",
    "p.flip_top_bottom(probability=0.5)\n",
    "p.random_distortion(probability=0.5, grid_width=10, grid_height=10, magnitude=8)\n",
    "p.random_brightness(probability=0.5, min_factor=0.7, max_factor=0.9)\n",
    "p.random_contrast(probability=0.5, min_factor=0.5, max_factor=0.9)\n",
    "p.skew(probability=0.5, magnitude=0.5)\n",
    "p.skew_corner(probability=0.5,  magnitude=0.5)\n",
    "p.sample(9700)"
   ]
  }
 ],
 "metadata": {
  "kernelspec": {
   "display_name": "Python 3 (ipykernel)",
   "language": "python",
   "name": "python3"
  },
  "language_info": {
   "codemirror_mode": {
    "name": "ipython",
    "version": 3
   },
   "file_extension": ".py",
   "mimetype": "text/x-python",
   "name": "python",
   "nbconvert_exporter": "python",
   "pygments_lexer": "ipython3",
   "version": "3.9.7"
  }
 },
 "nbformat": 4,
 "nbformat_minor": 5
}
